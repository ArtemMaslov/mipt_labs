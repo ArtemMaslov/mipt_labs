{
 "cells": [
  {
   "attachments": {},
   "cell_type": "markdown",
   "metadata": {},
   "source": [
    "# Лабораторная работа 4.7.3"
   ]
  },
  {
   "attachments": {},
   "cell_type": "markdown",
   "metadata": {},
   "source": [
    "#### Исследование поляризации"
   ]
  },
  {
   "attachments": {},
   "cell_type": "markdown",
   "metadata": {},
   "source": [
    "### Библиотеки "
   ]
  },
  {
   "cell_type": "code",
   "execution_count": 1,
   "metadata": {},
   "outputs": [],
   "source": [
    "import numpy as np\n",
    "import pandas as pd\n",
    "import matplotlib.pyplot as plt\n",
    "import matplotlib as mpl\n",
    "import matplotlib.ticker as ticker\n",
    "import math as m\n",
    "import random as r\n",
    "\n",
    "from scipy.optimize import curve_fit\n",
    "from scipy import interpolate\n",
    "from scipy.integrate import quad"
   ]
  },
  {
   "cell_type": "code",
   "execution_count": 2,
   "metadata": {},
   "outputs": [],
   "source": [
    "def Line(x, a, b):\n",
    "    \"\"\"\n",
    "    Параметрическая прямая\n",
    "    \"\"\"\n",
    "    return a*x + b\n",
    "\n",
    "#-----------------------------------------------------------------------------------------------------------\n",
    "#\n",
    "# !!!!!!!!!!!!!!!!!!!!!!!!!!!!!!!!!!!!!!!!!!!!!!!! ВНИМАНИЕ !!!!!!!!!!!!!!!!!!!!!!!!!!!!!!!!!!!!!!!!!!!!!!!!\n",
    "#\n",
    "# Тупой питон не может подставить знак минус перед коэффициентом b! Если экспонента имеет вид e(^b), b < 0,\n",
    "# то минус надо указать вручную.\n",
    "#\n",
    "# !!!!!!!!!!!!!!!!!!!!!!!!!!!!!!!!!!!!!!!!!!!!!!!!!!!!!!!!!!!!!!!!!!!!!!!!!!!!!!!!!!!!!!!!!!!!!!!!!!!!!!!!!!\n",
    "#\n",
    "#-----------------------------------------------------------------------------------------------------------\n",
    "def Exponent(x, a, b, c):\n",
    "    \"\"\"\n",
    "    Параметрическая експонента (ae^(bx)\n",
    "    \"\"\"\n",
    "    return a * np.exp(-b * x) + c\n",
    "\n",
    "def CalcErrors(popt, cov, precA = 4, precB = 4, printRes = True):\n",
    "    \"\"\"\n",
    "    Вычисляет погрешность МНК.\n",
    "    Выводит в консоль значения + погрешность.\n",
    "    Возвращает массив погрешностей.\n",
    "    \"\"\"\n",
    "    errors = []\n",
    "    for i in range(len(popt)):\n",
    "        try:\n",
    "          errors.append(np.absolute(cov[i][i])**0.5)\n",
    "        except:\n",
    "          errors.append( 0.00 )\n",
    "    errors = np.array(errors)\n",
    "\n",
    "    if (printRes == True):\n",
    "        for i in range(0, len(errors)):\n",
    "            print(\"c{:d} = {:.0{prec}f} +- {:.0{prec}f}\".format(i + 1, popt[i], errors[i], prec = precA))\n",
    "\n",
    "    return errors\n",
    "\n",
    "def NpToStrList(np_array, precision):\n",
    "    np_array = np.around(np_array.astype(float), precision)\n",
    "\n",
    "    return [\"{:.0{prec}f}\".format(val, prec = precision) for val in np_array]\n",
    "\n",
    "def NpToStr(array):\n",
    "    return [str(f) for f in array]\n",
    "\n",
    "def PrintMinMax(array, header):\n",
    "    print(header + \"min = {:.3f}, max = {:.3f}\".format(min(array), max(array)))\n",
    "    \n",
    "#jnb.HideCell()"
   ]
  },
  {
   "cell_type": "code",
   "execution_count": 3,
   "metadata": {},
   "outputs": [],
   "source": [
    "def _getIndex(indexRow, indexColumn, isRowDataSet):\n",
    "    \"\"\"\n",
    "    Возвращает индексы в правильном порядке для обращения к массиву.\n",
    "    \"\"\"\n",
    "    if (isRowDataSet == True):\n",
    "        return (indexRow, indexColumn)\n",
    "    else:\n",
    "        return (indexColumn, indexRow)\n",
    "\n",
    "def _drawRowGrid(file, rowGrid, rowIndex):\n",
    "    if (rowGrid != None and rowGrid[rowIndex] > 0):\n",
    "         file.write(\"\\\\hline\\n\" * rowGrid[rowIndex])\n",
    "\n",
    "def _getTableDim(data, isRowDataSet):\n",
    "    if (isRowDataSet == True):\n",
    "        return (len(data), len(data[0]))\n",
    "    else:\n",
    "        return (len(data[0]), len(data))\n",
    "\n",
    "def _createTable(fileName, data, isRowDataSet, \n",
    "                 columnGrid = None, rowGrid = None, preheader = None):\n",
    "    \"\"\"\n",
    "    Создаёт вертикальную Latex-таблицу, если rowDataSet == false и горизонтальную, если rowDataSet == true.\n",
    "\n",
    "    Аргументы:\n",
    "    fileName     - имя выходного файла с таблицей;\n",
    "    data         - массив данных таблицы;\n",
    "    isRowDataSet - если true, массив данных содержит горизонтальную таблицу, иначе вертикальную;\n",
    "    columnGrid   - строка, которая определяет тип сетки между колонками: \\begin{tabular}{columnGrid};\n",
    "    rowGrid      - список длины rowCount + 1, в котором содержится число:\n",
    "                        - 0 - нет       горизонтальной линии;\n",
    "                        - 1 - одинарная горизонтальная линия;\n",
    "                        - 2 - двойная   горизонтальная линия.\n",
    "    \"\"\"\n",
    "    rowCount, columnCount = _getTableDim(data, isRowDataSet)\n",
    "\n",
    "    with open(\"tables\\\\\" + fileName, 'w', encoding='utf-8') as file:\n",
    "\n",
    "        if (columnGrid == None):\n",
    "            columnGrid = \"|\" + 'c|' * columnCount\n",
    "        \n",
    "        file.write(\"\\\\begin{tabular}[t]{\" + columnGrid +\"}\\n\")\n",
    "\n",
    "        _drawRowGrid(file, rowGrid, 0)\n",
    "        \n",
    "        if (preheader != None):\n",
    "            file.write(preheader)\n",
    "\n",
    "        for rowIndex in range(0, rowCount):\n",
    "\n",
    "            for colIndex in range(0, columnCount - 1):\n",
    "                index1, index2 = _getIndex(rowIndex, colIndex, isRowDataSet)\n",
    "\n",
    "                file.write(\"{} & \".format(str(data[index1][index2]).replace('.', ',')))\n",
    "\n",
    "            index1, index2 = _getIndex(rowIndex, columnCount - 1, isRowDataSet)\n",
    "\n",
    "            file.write(\"{} \\\\\\\\ \\n\".format(str(data[index1][index2]).replace('.', ',')))\n",
    "\n",
    "            _drawRowGrid(file, rowGrid, rowIndex + 1)\n",
    "\n",
    "        # End data draw cycle\n",
    "        file.write('\\end{tabular}')\n",
    "\n",
    "def CreateVerticalTable(fileName, data, \n",
    "                 columnGrid = None, rowGrid = None, preheader = None):\n",
    "    \"\"\"\n",
    "    Создаёт вертикальную Latex-таблицу.\n",
    "    \"\"\"\n",
    "    _createTable(fileName, data, False, columnGrid = columnGrid, rowGrid = rowGrid, preheader = preheader)\n",
    "\n",
    "def CreateVerticalTableHeader(fileName, header, dataColumns, \n",
    "                 columnGrid = None, rowGrid = None, preheader = None):\n",
    "    \"\"\"\n",
    "    Создаёт вертикальную Latex-таблицу.\n",
    "    \"\"\"\n",
    "    _createTable(fileName, [[header[st]] + dataColumns[st] for st in range(0, len(dataColumns))],\n",
    "                                False, columnGrid = columnGrid, rowGrid = rowGrid, preheader = preheader)\n",
    "\n",
    "def CreateHorizontalTable(fileName, dataRows, \n",
    "                 columnGrid = None, rowGrid = None, preheader = None):\n",
    "    \"\"\"\n",
    "    Создаёт горизонтальную Latex-таблицу.\n",
    "    \"\"\"\n",
    "    _createTable(fileName, dataRows, True, columnGrid = columnGrid, rowGrid = rowGrid, preheader = preheader)\n",
    "    "
   ]
  },
  {
   "attachments": {},
   "cell_type": "markdown",
   "metadata": {},
   "source": [
    "### Обработка результатов измерений"
   ]
  },
  {
   "cell_type": "code",
   "execution_count": 10,
   "metadata": {},
   "outputs": [
    {
     "name": "stdout",
     "output_type": "stream",
     "text": [
      "46 54\n",
      "1.04 +- 0.10, 9.88%\n",
      "1.38 +- 0.14, 10.38%\n"
     ]
    }
   ],
   "source": [
    "sig_phi = 2 *(2)**0.5\n",
    "sig_phi_r = sig_phi / 180 * m.pi\n",
    "phib1 = 138 -92\n",
    "phib2 = 146 -92\n",
    "\n",
    "phib1_r = phib1 / 180 * m.pi\n",
    "phib2_r = phib2 / 180 * m.pi\n",
    "\n",
    "n1 = m.tan(phib1_r)\n",
    "n2 = m.tan(phib2_r)\n",
    "sig_n1 = sig_phi_r / (m.cos(phib1_r))**2\n",
    "sig_n2 = sig_phi_r / (m.cos(phib2_r))**2\n",
    "\n",
    "print(phib1, phib2)\n",
    "print(\"{:.2f} +- {:.2f}, {:.2f}%\".format(n1, sig_n1, sig_n1 / n1 * 100))\n",
    "print(\"{:.2f} +- {:.2f}, {:.2f}%\".format(n2, sig_n2, sig_n2 / n2 * 100))"
   ]
  },
  {
   "cell_type": "code",
   "execution_count": null,
   "metadata": {},
   "outputs": [],
   "source": []
  }
 ],
 "metadata": {
  "kernelspec": {
   "display_name": "Python 3",
   "language": "python",
   "name": "python3"
  },
  "language_info": {
   "codemirror_mode": {
    "name": "ipython",
    "version": 3
   },
   "file_extension": ".py",
   "mimetype": "text/x-python",
   "name": "python",
   "nbconvert_exporter": "python",
   "pygments_lexer": "ipython3",
   "version": "3.10.6"
  },
  "orig_nbformat": 4,
  "vscode": {
   "interpreter": {
    "hash": "e7370f93d1d0cde622a1f8e1c04877d8463912d04d973331ad4851f04de6915a"
   }
  }
 },
 "nbformat": 4,
 "nbformat_minor": 2
}
